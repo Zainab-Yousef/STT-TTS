{
 "cells": [
  {
   "cell_type": "code",
   "execution_count": 1,
   "metadata": {},
   "outputs": [],
   "source": [
    "# Run once\n",
    "\n",
    "from os.path import join, dirname\n",
    "from ibm_watson import TextToSpeechV1\n",
    "from ibm_watson import SpeechToTextV1\n",
    "from ibm_cloud_sdk_core.authenticators import IAMAuthenticator"
   ]
  },
  {
   "cell_type": "markdown",
   "metadata": {},
   "source": [
    "# Speech To Text\n",
    "## set f_name to your audio file, code will save the results with same name but txt file"
   ]
  },
  {
   "cell_type": "code",
   "execution_count": 2,
   "metadata": {},
   "outputs": [
    {
     "name": "stdout",
     "output_type": "stream",
     "text": [
      "txt File \"public_audio_english2.g712.txt\" saved Successfully\n",
      "\n",
      "This is the extracted text:\n",
      " thank you for calling this is Dave speaking how can I help you hi Dave I filled out an order application last night and at the last page it says to call and get more information I'd be more than happy to assist you with that I'll have to ask you some additional questions okay okay vehicle that you're looking to purchase are you purchasing from an individual or from a dealer I'm an individual okay all right %HESITATION any special occasion for the car purchase no I just want a new car okay and it looks like you applied for twenty thousand dollars yes that's right okay we just want to insure that the amount that you're requesting is sufficient to cover the price the taxes the title and other fees yes it is \n"
     ]
    }
   ],
   "source": [
    "f_name = \"public_audio_english2.g712.wav\" #\"resources_speech.wav\"\n",
    "\n",
    "authenticator_speech = IAMAuthenticator(\"ga-JLlgdzLwSYEevPqVgaH4IfAV5K6P7MTOVHSt_3lmN\")\n",
    "service = SpeechToTextV1(authenticator=authenticator_speech)\n",
    "service.set_service_url('https://api.eu-gb.speech-to-text.watson.cloud.ibm.com/')\n",
    "\n",
    "try:\n",
    "    with open(join(dirname(\".\"), f_name), 'rb') as audio_file:\n",
    "        res = service.recognize(model=\"en-US_BroadbandModel\", audio=audio_file).get_result()\n",
    "except Exception as e:\n",
    "    try:\n",
    "        with open(join(dirname(\".\"), f_name), 'rb') as audio_file:\n",
    "            res = service.recognize(model=\"en-US_NarrowbandModel\", audio=audio_file).get_result()\n",
    "    except Exception as e:\n",
    "        print(\"Audio input not supported\")\n",
    "        exit(1)\n",
    "\n",
    "overall_text = ''\n",
    "for i in res['results']:\n",
    "    overall_text += i['alternatives'][0]['transcript']\n",
    "\n",
    "txt_f_name = f_name[:-3] + 'txt'\n",
    "with open(join(dirname(\".\"), txt_f_name), 'w') as f:\n",
    "    f.write(overall_text)\n",
    "    print(f\"txt File \\\"{txt_f_name}\\\" saved Successfully\\n\")\n",
    "    \n",
    "print(\"This is the extracted text:\\n\", overall_text)"
   ]
  },
  {
   "cell_type": "markdown",
   "metadata": {},
   "source": [
    "# Text To Speech\n",
    "## set f_name to your txt file, code will save the results with same name but mp3 file"
   ]
  },
  {
   "cell_type": "code",
   "execution_count": 3,
   "metadata": {},
   "outputs": [
    {
     "name": "stdout",
     "output_type": "stream",
     "text": [
      "mp3 File \"text_to_speech_demo.mp3\" saved Successfully\n"
     ]
    }
   ],
   "source": [
    "f_name= \"text_to_speech_demo.txt\"\n",
    "\n",
    "authenticator = IAMAuthenticator('Dqnt2nXR6kgtjfsMb-IZTT9BQrH_bYJFuToyJmp0_rml')\n",
    "service = TextToSpeechV1(authenticator=authenticator)\n",
    "service.set_service_url('https://api.eu-gb.text-to-speech.watson.cloud.ibm.com/')\n",
    "\n",
    "with open(f_name, 'r') as f:\n",
    "    text = f.readlines()\n",
    "text = ''.join(text)\n",
    "\n",
    "mp3_f_name = f_name[:-3] + 'mp3'\n",
    "try:\n",
    "    with open(join(dirname(\".\"), mp3_f_name), 'wb') as audio_file:\n",
    "        response = service.synthesize(\n",
    "            text=text,\n",
    "            accept='audio/mp3',\n",
    "            voice=\"en-US_EmilyV3Voice\"\n",
    "        ).get_result()\n",
    "        audio_file.write(response.content)\n",
    "    print(f\"mp3 File \\\"{mp3_f_name}\\\" saved Successfully\")\n",
    "except Exception as e:\n",
    "    print(e)"
   ]
  },
  {
   "cell_type": "code",
   "execution_count": null,
   "metadata": {},
   "outputs": [],
   "source": []
  }
 ],
 "metadata": {
  "kernelspec": {
   "display_name": "watson",
   "language": "python",
   "name": "watson"
  },
  "language_info": {
   "codemirror_mode": {
    "name": "ipython",
    "version": 3
   },
   "file_extension": ".py",
   "mimetype": "text/x-python",
   "name": "python",
   "nbconvert_exporter": "python",
   "pygments_lexer": "ipython3",
   "version": "3.7.10"
  }
 },
 "nbformat": 4,
 "nbformat_minor": 4
}
